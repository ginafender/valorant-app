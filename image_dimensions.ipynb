{
 "cells": [
  {
   "cell_type": "code",
   "execution_count": 1,
   "metadata": {},
   "outputs": [],
   "source": [
    "import requests\n",
    "import json\n",
    "from PIL import Image\n",
    "import os"
   ]
  },
  {
   "cell_type": "code",
   "execution_count": 2,
   "metadata": {},
   "outputs": [],
   "source": [
    "with open(\"..//valorant-app/json/valorantmaps.json\", \"r\") as json_file:\n",
    "    maps = json.load(json_file)"
   ]
  },
  {
   "cell_type": "markdown",
   "metadata": {},
   "source": [
    "### Ascent Image"
   ]
  },
  {
   "cell_type": "code",
   "execution_count": 3,
   "metadata": {},
   "outputs": [],
   "source": [
    "ascent = maps['data'][0]['displayIcon']"
   ]
  },
  {
   "cell_type": "code",
   "execution_count": 4,
   "metadata": {},
   "outputs": [],
   "source": [
    "response = requests.get(ascent)\n",
    "if response.status_code == 200:\n",
    "    with open(\"..//valorant-app/map images/ascent_image.png\", \"wb\") as img_file:\n",
    "        img_file.write(response.content)"
   ]
  },
  {
   "cell_type": "code",
   "execution_count": 6,
   "metadata": {},
   "outputs": [],
   "source": [
    "ascent_image = Image.open(\"..//valorant-app/map images/ascent_image.png\")\n",
    "ascent_width = ascent_image.width\n",
    "ascent_height = ascent_image.height"
   ]
  },
  {
   "cell_type": "code",
   "execution_count": 15,
   "metadata": {},
   "outputs": [
    {
     "name": "stdout",
     "output_type": "stream",
     "text": [
      "height: 1024 \n",
      " width: 1024\n"
     ]
    }
   ],
   "source": [
    "print(f'height: {ascent_height} \\n width: {ascent_width}')"
   ]
  },
  {
   "cell_type": "markdown",
   "metadata": {},
   "source": [
    "### Split Image"
   ]
  },
  {
   "cell_type": "code",
   "execution_count": 10,
   "metadata": {},
   "outputs": [],
   "source": [
    "split = maps['data'][1]['displayIcon']"
   ]
  },
  {
   "cell_type": "code",
   "execution_count": 11,
   "metadata": {},
   "outputs": [],
   "source": [
    "response = requests.get(split)\n",
    "if response.status_code == 200:\n",
    "    with open(\"..//valorant-app/map images/split_image.png\", \"wb\") as img_file:\n",
    "        img_file.write(response.content)"
   ]
  },
  {
   "cell_type": "code",
   "execution_count": 12,
   "metadata": {},
   "outputs": [],
   "source": [
    "split_image = Image.open(\"..//valorant-app/map images/split_image.png\")\n",
    "split_width = split_image.width\n",
    "split_height = split_image.height"
   ]
  },
  {
   "cell_type": "code",
   "execution_count": 14,
   "metadata": {},
   "outputs": [
    {
     "name": "stdout",
     "output_type": "stream",
     "text": [
      "height: 1024 \n",
      " width: 1024\n"
     ]
    }
   ],
   "source": [
    "print(f'height: {split_height} \\n width: {split_width}')"
   ]
  },
  {
   "cell_type": "markdown",
   "metadata": {},
   "source": [
    "### Fracture Image"
   ]
  },
  {
   "cell_type": "code",
   "execution_count": 16,
   "metadata": {},
   "outputs": [],
   "source": [
    "fracture = maps['data'][2]['displayIcon']"
   ]
  },
  {
   "cell_type": "code",
   "execution_count": 17,
   "metadata": {},
   "outputs": [],
   "source": [
    "response = requests.get(fracture)\n",
    "if response.status_code == 200:\n",
    "    with open(\"..//valorant-app/map images/fracture_image.png\", \"wb\") as img_file:\n",
    "        img_file.write(response.content)"
   ]
  },
  {
   "cell_type": "code",
   "execution_count": 18,
   "metadata": {},
   "outputs": [],
   "source": [
    "fracture_image = Image.open(\"..//valorant-app/map images/fracture_image.png\")\n",
    "fracture_width = fracture_image.width\n",
    "fracture_height = fracture_image.height"
   ]
  },
  {
   "cell_type": "code",
   "execution_count": 19,
   "metadata": {},
   "outputs": [
    {
     "name": "stdout",
     "output_type": "stream",
     "text": [
      "height: 1024 \n",
      " width: 1024\n"
     ]
    }
   ],
   "source": [
    "print(f'height: {fracture_height} \\n width: {fracture_width}')"
   ]
  },
  {
   "cell_type": "markdown",
   "metadata": {},
   "source": [
    "### Bind Image"
   ]
  },
  {
   "cell_type": "code",
   "execution_count": 21,
   "metadata": {},
   "outputs": [],
   "source": [
    "bind = maps['data'][3]['displayIcon']"
   ]
  },
  {
   "cell_type": "code",
   "execution_count": 22,
   "metadata": {},
   "outputs": [],
   "source": [
    "response = requests.get(bind)\n",
    "if response.status_code == 200:\n",
    "    with open(\"..//valorant-app/map images/bind_image.png\", \"wb\") as img_file:\n",
    "        img_file.write(response.content)"
   ]
  },
  {
   "cell_type": "code",
   "execution_count": 23,
   "metadata": {},
   "outputs": [],
   "source": [
    "bind_image = Image.open(\"..//valorant-app/map images/bind_image.png\")\n",
    "bind_width = bind_image.width\n",
    "bind_height = bind_image.height"
   ]
  },
  {
   "cell_type": "code",
   "execution_count": 24,
   "metadata": {},
   "outputs": [
    {
     "name": "stdout",
     "output_type": "stream",
     "text": [
      "height: 1024 \n",
      " width: 1024\n"
     ]
    }
   ],
   "source": [
    "print(f'height: {bind_height} \\n width: {bind_width}')"
   ]
  },
  {
   "cell_type": "markdown",
   "metadata": {},
   "source": [
    "### Breeze Image"
   ]
  },
  {
   "cell_type": "code",
   "execution_count": 25,
   "metadata": {},
   "outputs": [],
   "source": [
    "breeze = maps['data'][4]['displayIcon']"
   ]
  },
  {
   "cell_type": "code",
   "execution_count": 26,
   "metadata": {},
   "outputs": [],
   "source": [
    "response = requests.get(breeze)\n",
    "if response.status_code == 200:\n",
    "    with open(\"..//valorant-app/map images/breeze_image.png\", \"wb\") as img_file:\n",
    "        img_file.write(response.content)"
   ]
  },
  {
   "cell_type": "code",
   "execution_count": 27,
   "metadata": {},
   "outputs": [],
   "source": [
    "breeze_image = Image.open(\"..//valorant-app/map images/breeze_image.png\")\n",
    "breeze_width = breeze_image.width\n",
    "breeze_height = breeze_image.height"
   ]
  },
  {
   "cell_type": "code",
   "execution_count": 28,
   "metadata": {},
   "outputs": [
    {
     "name": "stdout",
     "output_type": "stream",
     "text": [
      "height: 1024 \n",
      " width: 1024\n"
     ]
    }
   ],
   "source": [
    "print(f'height: {breeze_height} \\n width: {breeze_width}')"
   ]
  },
  {
   "cell_type": "markdown",
   "metadata": {},
   "source": [
    "### Lotus Image"
   ]
  },
  {
   "cell_type": "code",
   "execution_count": 33,
   "metadata": {},
   "outputs": [],
   "source": [
    "lotus = maps['data'][8]['displayIcon']"
   ]
  },
  {
   "cell_type": "code",
   "execution_count": 34,
   "metadata": {},
   "outputs": [],
   "source": [
    "response = requests.get(lotus)\n",
    "if response.status_code == 200:\n",
    "    with open(\"..//valorant-app/map images/lotus_image.png\", \"wb\") as img_file:\n",
    "        img_file.write(response.content)"
   ]
  },
  {
   "cell_type": "code",
   "execution_count": 35,
   "metadata": {},
   "outputs": [],
   "source": [
    "lotus_image = Image.open(\"..//valorant-app/map images/lotus_image.png\")\n",
    "lotus_width = lotus_image.width\n",
    "lotus_height = lotus_image.height"
   ]
  },
  {
   "cell_type": "code",
   "execution_count": 36,
   "metadata": {},
   "outputs": [
    {
     "name": "stdout",
     "output_type": "stream",
     "text": [
      "height: 1024 \n",
      " width: 1024\n"
     ]
    }
   ],
   "source": [
    "print(f'height: {lotus_height} \\n width: {lotus_width}')"
   ]
  },
  {
   "cell_type": "markdown",
   "metadata": {},
   "source": [
    "### Pearl Image"
   ]
  },
  {
   "cell_type": "code",
   "execution_count": 38,
   "metadata": {},
   "outputs": [],
   "source": [
    "pearl = maps['data'][9]['displayIcon']"
   ]
  },
  {
   "cell_type": "code",
   "execution_count": 39,
   "metadata": {},
   "outputs": [],
   "source": [
    "response = requests.get(pearl)\n",
    "if response.status_code == 200:\n",
    "    with open(\"..//valorant-app/map images/pearl_image.png\", \"wb\") as img_file:\n",
    "        img_file.write(response.content)"
   ]
  },
  {
   "cell_type": "code",
   "execution_count": 40,
   "metadata": {},
   "outputs": [],
   "source": [
    "pearl_image = Image.open(\"..//valorant-app/map images/pearl_image.png\")\n",
    "pearl_width = pearl_image.width\n",
    "pearl_height = pearl_image.height"
   ]
  },
  {
   "cell_type": "code",
   "execution_count": 41,
   "metadata": {},
   "outputs": [
    {
     "name": "stdout",
     "output_type": "stream",
     "text": [
      "height: 1024 \n",
      " width: 1024\n"
     ]
    }
   ],
   "source": [
    "print(f'height: {pearl_height} \\n width: {pearl_width}')"
   ]
  },
  {
   "cell_type": "markdown",
   "metadata": {},
   "source": [
    "### Icebox Image"
   ]
  },
  {
   "cell_type": "code",
   "execution_count": 42,
   "metadata": {},
   "outputs": [],
   "source": [
    "icebox = maps['data'][10]['displayIcon']"
   ]
  },
  {
   "cell_type": "code",
   "execution_count": 43,
   "metadata": {},
   "outputs": [],
   "source": [
    "response = requests.get(icebox)\n",
    "if response.status_code == 200:\n",
    "    with open(\"..//valorant-app/map images/icebox_image.png\", \"wb\") as img_file:\n",
    "        img_file.write(response.content)"
   ]
  },
  {
   "cell_type": "code",
   "execution_count": 44,
   "metadata": {},
   "outputs": [],
   "source": [
    "icebox_image = Image.open(\"..//valorant-app/map images/icebox_image.png\")\n",
    "icebox_width = icebox_image.width\n",
    "icebox_height = icebox_image.height"
   ]
  },
  {
   "cell_type": "code",
   "execution_count": 45,
   "metadata": {},
   "outputs": [
    {
     "name": "stdout",
     "output_type": "stream",
     "text": [
      "height: 1024 \n",
      " width: 1024\n"
     ]
    }
   ],
   "source": [
    "print(f'height: {icebox_height} \\n width: {icebox_width}')"
   ]
  },
  {
   "cell_type": "markdown",
   "metadata": {},
   "source": [
    "### Haven Image"
   ]
  },
  {
   "cell_type": "code",
   "execution_count": 47,
   "metadata": {},
   "outputs": [],
   "source": [
    "haven = maps['data'][12]['displayIcon']"
   ]
  },
  {
   "cell_type": "code",
   "execution_count": 48,
   "metadata": {},
   "outputs": [],
   "source": [
    "response = requests.get(haven)\n",
    "if response.status_code == 200:\n",
    "    with open(\"..//valorant-app/map images/haven_image.png\", \"wb\") as img_file:\n",
    "        img_file.write(response.content)"
   ]
  },
  {
   "cell_type": "code",
   "execution_count": 49,
   "metadata": {},
   "outputs": [],
   "source": [
    "haven_image = Image.open(\"..//valorant-app/map images/haven_image.png\")\n",
    "haven_width = haven_image.width\n",
    "haven_height = haven_image.height"
   ]
  },
  {
   "cell_type": "code",
   "execution_count": 50,
   "metadata": {},
   "outputs": [
    {
     "name": "stdout",
     "output_type": "stream",
     "text": [
      "height: 1024 \n",
      " width: 1024\n"
     ]
    }
   ],
   "source": [
    "print(f'height: {haven_height} \\n width: {haven_width}')"
   ]
  }
 ],
 "metadata": {
  "kernelspec": {
   "display_name": "dev",
   "language": "python",
   "name": "python3"
  },
  "language_info": {
   "codemirror_mode": {
    "name": "ipython",
    "version": 3
   },
   "file_extension": ".py",
   "mimetype": "text/x-python",
   "name": "python",
   "nbconvert_exporter": "python",
   "pygments_lexer": "ipython3",
   "version": "3.10.12"
  },
  "orig_nbformat": 4
 },
 "nbformat": 4,
 "nbformat_minor": 2
}
